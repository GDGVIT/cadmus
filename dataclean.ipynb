{
 "cells": [
  {
   "cell_type": "markdown",
   "metadata": {},
   "source": [
    "### importing libraries"
   ]
  },
  {
   "cell_type": "code",
   "execution_count": 67,
   "metadata": {},
   "outputs": [],
   "source": [
    "import pandas as pd\n",
    "import numpy as np\n",
    "import json\n",
    "import os.path\n",
    "from os import path"
   ]
  },
  {
   "cell_type": "markdown",
   "metadata": {},
   "source": [
    "### reading data from json file"
   ]
  },
  {
   "cell_type": "code",
   "execution_count": 68,
   "metadata": {},
   "outputs": [
    {
     "data": {
      "text/html": [
       "<div>\n",
       "<style scoped>\n",
       "    .dataframe tbody tr th:only-of-type {\n",
       "        vertical-align: middle;\n",
       "    }\n",
       "\n",
       "    .dataframe tbody tr th {\n",
       "        vertical-align: top;\n",
       "    }\n",
       "\n",
       "    .dataframe thead th {\n",
       "        text-align: right;\n",
       "    }\n",
       "</style>\n",
       "<table border=\"1\" class=\"dataframe\">\n",
       "  <thead>\n",
       "    <tr style=\"text-align: right;\">\n",
       "      <th></th>\n",
       "      <th>gloss_bbox</th>\n",
       "      <th>gloss_fps</th>\n",
       "      <th>gloss_frame_end</th>\n",
       "      <th>gloss_frame_start</th>\n",
       "      <th>gloss_instance_id</th>\n",
       "      <th>gloss_signer_id</th>\n",
       "      <th>gloss_source</th>\n",
       "      <th>gloss_split</th>\n",
       "      <th>gloss_url</th>\n",
       "      <th>gloss_variation_id</th>\n",
       "      <th>gloss_video_id</th>\n",
       "      <th>gloss</th>\n",
       "    </tr>\n",
       "  </thead>\n",
       "  <tbody>\n",
       "    <tr>\n",
       "      <th>0</th>\n",
       "      <td>[385, 37, 885, 720]</td>\n",
       "      <td>25</td>\n",
       "      <td>-1</td>\n",
       "      <td>1</td>\n",
       "      <td>0</td>\n",
       "      <td>118</td>\n",
       "      <td>aslbrick</td>\n",
       "      <td>train</td>\n",
       "      <td>http://aslbricks.org/New/ASL-Videos/book.mp4</td>\n",
       "      <td>0</td>\n",
       "      <td>69241</td>\n",
       "      <td>book</td>\n",
       "    </tr>\n",
       "    <tr>\n",
       "      <th>1</th>\n",
       "      <td>[190, 25, 489, 370]</td>\n",
       "      <td>25</td>\n",
       "      <td>-1</td>\n",
       "      <td>1</td>\n",
       "      <td>1</td>\n",
       "      <td>90</td>\n",
       "      <td>aslsignbank</td>\n",
       "      <td>train</td>\n",
       "      <td>https://aslsignbank.haskins.yale.edu/dictionar...</td>\n",
       "      <td>0</td>\n",
       "      <td>65225</td>\n",
       "      <td>book</td>\n",
       "    </tr>\n",
       "    <tr>\n",
       "      <th>2</th>\n",
       "      <td>[262, 1, 652, 480]</td>\n",
       "      <td>25</td>\n",
       "      <td>-1</td>\n",
       "      <td>1</td>\n",
       "      <td>2</td>\n",
       "      <td>110</td>\n",
       "      <td>valencia-asl</td>\n",
       "      <td>train</td>\n",
       "      <td>https://www.youtube.com/watch?v=0UsjUE-TXns</td>\n",
       "      <td>0</td>\n",
       "      <td>68011</td>\n",
       "      <td>book</td>\n",
       "    </tr>\n",
       "    <tr>\n",
       "      <th>3</th>\n",
       "      <td>[123, 19, 516, 358]</td>\n",
       "      <td>25</td>\n",
       "      <td>60</td>\n",
       "      <td>1</td>\n",
       "      <td>3</td>\n",
       "      <td>113</td>\n",
       "      <td>lillybauer</td>\n",
       "      <td>train</td>\n",
       "      <td>https://www.youtube.com/watch?v=1QOYOZ3g-aY</td>\n",
       "      <td>0</td>\n",
       "      <td>68208</td>\n",
       "      <td>book</td>\n",
       "    </tr>\n",
       "    <tr>\n",
       "      <th>4</th>\n",
       "      <td>[95, 0, 1180, 720]</td>\n",
       "      <td>25</td>\n",
       "      <td>-1</td>\n",
       "      <td>1</td>\n",
       "      <td>4</td>\n",
       "      <td>109</td>\n",
       "      <td>valencia-asl</td>\n",
       "      <td>train</td>\n",
       "      <td>https://www.youtube.com/watch?v=aGtIHKEdCds</td>\n",
       "      <td>0</td>\n",
       "      <td>68012</td>\n",
       "      <td>book</td>\n",
       "    </tr>\n",
       "  </tbody>\n",
       "</table>\n",
       "</div>"
      ],
      "text/plain": [
       "            gloss_bbox  gloss_fps  gloss_frame_end  gloss_frame_start  \\\n",
       "0  [385, 37, 885, 720]         25               -1                  1   \n",
       "1  [190, 25, 489, 370]         25               -1                  1   \n",
       "2   [262, 1, 652, 480]         25               -1                  1   \n",
       "3  [123, 19, 516, 358]         25               60                  1   \n",
       "4   [95, 0, 1180, 720]         25               -1                  1   \n",
       "\n",
       "   gloss_instance_id  gloss_signer_id  gloss_source gloss_split  \\\n",
       "0                  0              118      aslbrick       train   \n",
       "1                  1               90   aslsignbank       train   \n",
       "2                  2              110  valencia-asl       train   \n",
       "3                  3              113    lillybauer       train   \n",
       "4                  4              109  valencia-asl       train   \n",
       "\n",
       "                                           gloss_url  gloss_variation_id  \\\n",
       "0       http://aslbricks.org/New/ASL-Videos/book.mp4                   0   \n",
       "1  https://aslsignbank.haskins.yale.edu/dictionar...                   0   \n",
       "2        https://www.youtube.com/watch?v=0UsjUE-TXns                   0   \n",
       "3        https://www.youtube.com/watch?v=1QOYOZ3g-aY                   0   \n",
       "4        https://www.youtube.com/watch?v=aGtIHKEdCds                   0   \n",
       "\n",
       "  gloss_video_id gloss  \n",
       "0          69241  book  \n",
       "1          65225  book  \n",
       "2          68011  book  \n",
       "3          68208  book  \n",
       "4          68012  book  "
      ]
     },
     "execution_count": 68,
     "metadata": {},
     "output_type": "execute_result"
    }
   ],
   "source": [
    "with open('WLASL.json') as data_file:    \n",
    "    data = json.load(data_file)  \n",
    "\n",
    "df = pd.json_normalize(data, 'instances', ['gloss'], record_prefix='gloss_')\n",
    "df.head()"
   ]
  },
  {
   "cell_type": "markdown",
   "metadata": {},
   "source": [
    "### printing shape of data before preprocessing and removing expired videos"
   ]
  },
  {
   "cell_type": "code",
   "execution_count": 69,
   "metadata": {},
   "outputs": [
    {
     "data": {
      "text/plain": [
       "(21083, 12)"
      ]
     },
     "execution_count": 69,
     "metadata": {},
     "output_type": "execute_result"
    }
   ],
   "source": [
    "df.shape"
   ]
  },
  {
   "cell_type": "markdown",
   "metadata": {},
   "source": [
    "### removing rows containing expired video url after preprocessing"
   ]
  },
  {
   "cell_type": "code",
   "execution_count": 70,
   "metadata": {},
   "outputs": [],
   "source": [
    "for i in df['gloss_video_id']:\n",
    "    if(str(path.exists('videos/'+str(i)+'.mp4'))== 'False'):\n",
    "        df.drop(df[df['gloss_video_id'] == i].index, inplace = True) "
   ]
  },
  {
   "cell_type": "code",
   "execution_count": 71,
   "metadata": {},
   "outputs": [
    {
     "data": {
      "text/plain": [
       "(7541, 12)"
      ]
     },
     "execution_count": 71,
     "metadata": {},
     "output_type": "execute_result"
    }
   ],
   "source": [
    "df.shape"
   ]
  },
  {
   "cell_type": "markdown",
   "metadata": {},
   "source": [
    "### dropping the columns we wont be needing"
   ]
  },
  {
   "cell_type": "code",
   "execution_count": 73,
   "metadata": {},
   "outputs": [],
   "source": [
    "columns = ['gloss_variation_id','gloss_url','gloss_source','gloss_signer_id','gloss_frame_start','gloss_frame_end','gloss_fps']\n",
    "df.drop(columns, inplace=True, axis=1)"
   ]
  },
  {
   "cell_type": "code",
   "execution_count": 74,
   "metadata": {},
   "outputs": [
    {
     "data": {
      "text/html": [
       "<div>\n",
       "<style scoped>\n",
       "    .dataframe tbody tr th:only-of-type {\n",
       "        vertical-align: middle;\n",
       "    }\n",
       "\n",
       "    .dataframe tbody tr th {\n",
       "        vertical-align: top;\n",
       "    }\n",
       "\n",
       "    .dataframe thead th {\n",
       "        text-align: right;\n",
       "    }\n",
       "</style>\n",
       "<table border=\"1\" class=\"dataframe\">\n",
       "  <thead>\n",
       "    <tr style=\"text-align: right;\">\n",
       "      <th></th>\n",
       "      <th>gloss_bbox</th>\n",
       "      <th>gloss_instance_id</th>\n",
       "      <th>gloss_split</th>\n",
       "      <th>gloss_video_id</th>\n",
       "      <th>gloss</th>\n",
       "    </tr>\n",
       "  </thead>\n",
       "  <tbody>\n",
       "    <tr>\n",
       "      <th>0</th>\n",
       "      <td>[385, 37, 885, 720]</td>\n",
       "      <td>0</td>\n",
       "      <td>train</td>\n",
       "      <td>69241</td>\n",
       "      <td>book</td>\n",
       "    </tr>\n",
       "    <tr>\n",
       "      <th>1</th>\n",
       "      <td>[190, 25, 489, 370]</td>\n",
       "      <td>1</td>\n",
       "      <td>train</td>\n",
       "      <td>65225</td>\n",
       "      <td>book</td>\n",
       "    </tr>\n",
       "    <tr>\n",
       "      <th>10</th>\n",
       "      <td>[462, 44, 949, 720]</td>\n",
       "      <td>10</td>\n",
       "      <td>train</td>\n",
       "      <td>07069</td>\n",
       "      <td>book</td>\n",
       "    </tr>\n",
       "    <tr>\n",
       "      <th>17</th>\n",
       "      <td>[234, 17, 524, 414]</td>\n",
       "      <td>17</td>\n",
       "      <td>train</td>\n",
       "      <td>07068</td>\n",
       "      <td>book</td>\n",
       "    </tr>\n",
       "    <tr>\n",
       "      <th>22</th>\n",
       "      <td>[131, 26, 526, 480]</td>\n",
       "      <td>22</td>\n",
       "      <td>train</td>\n",
       "      <td>07070</td>\n",
       "      <td>book</td>\n",
       "    </tr>\n",
       "  </tbody>\n",
       "</table>\n",
       "</div>"
      ],
      "text/plain": [
       "             gloss_bbox  gloss_instance_id gloss_split gloss_video_id gloss\n",
       "0   [385, 37, 885, 720]                  0       train          69241  book\n",
       "1   [190, 25, 489, 370]                  1       train          65225  book\n",
       "10  [462, 44, 949, 720]                 10       train          07069  book\n",
       "17  [234, 17, 524, 414]                 17       train          07068  book\n",
       "22  [131, 26, 526, 480]                 22       train          07070  book"
      ]
     },
     "execution_count": 74,
     "metadata": {},
     "output_type": "execute_result"
    }
   ],
   "source": [
    "df.head()"
   ]
  },
  {
   "cell_type": "markdown",
   "metadata": {},
   "source": [
    "### saving final dataset to csv file"
   ]
  },
  {
   "cell_type": "code",
   "execution_count": 77,
   "metadata": {},
   "outputs": [],
   "source": [
    "df.to_csv('data.csv', index = True) "
   ]
  },
  {
   "cell_type": "code",
   "execution_count": null,
   "metadata": {},
   "outputs": [],
   "source": []
  }
 ],
 "metadata": {
  "kernelspec": {
   "display_name": "Python 3",
   "language": "python",
   "name": "python3"
  },
  "language_info": {
   "codemirror_mode": {
    "name": "ipython",
    "version": 3
   },
   "file_extension": ".py",
   "mimetype": "text/x-python",
   "name": "python",
   "nbconvert_exporter": "python",
   "pygments_lexer": "ipython3",
   "version": "3.8.5"
  }
 },
 "nbformat": 4,
 "nbformat_minor": 4
}
